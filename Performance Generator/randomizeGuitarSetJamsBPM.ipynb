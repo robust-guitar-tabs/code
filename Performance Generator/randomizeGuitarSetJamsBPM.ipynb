{
 "cells": [
  {
   "cell_type": "code",
   "execution_count": 192,
   "metadata": {},
   "outputs": [],
   "source": [
    "import json\n",
    "import os\n",
    "from random import randint\n",
    "\n",
    "def randomize_files_in_folder(folder_path):\n",
    "    for filename in os.listdir(folder_path):\n",
    "        if filename.endswith(\".jams\"):\n",
    "            file_path = os.path.join(folder_path, filename)\n",
    "            randomBPM(file_path)\n",
    "\n",
    "def randomBPM(file_path):\n",
    "    divmulgate = randint(0, 1)\n",
    "    if divmulgate == 0:\n",
    "        bpm = 1 + (randint(0, 25) * 0.01)\n",
    "    else:\n",
    "        bpm = 1 - (randint(0, 25) * 0.01)\n",
    "\n",
    "    with open(file_path, 'r+') as f:\n",
    "        jam = json.load(f)\n",
    "        \n",
    "        if 'file_metadata' in jam and 'duration' in jam['file_metadata']:\n",
    "                jam['file_metadata']['duration'] *= bpm\n",
    "\n",
    "        for anno in jam['annotations']:\n",
    "            if anno['namespace'] == 'note_midi':\n",
    "                for note in anno['data']:\n",
    "                    note['duration'] *= bpm\n",
    "                    note['time'] *= bpm\n",
    "\n",
    "            elif anno['namespace'] in ['pitch_contour', 'beat_position', 'tempo']:\n",
    "                if 'time' in anno['data']:  # Check if 'time' exists\n",
    "                    for i in range(len(anno['data']['time'])):\n",
    "                        anno['data']['time'][i] *= bpm\n",
    "                elif 'data' in anno:  # Check if 'data' exists\n",
    "                    for i in range(len(anno['data'])):\n",
    "                        anno['data'][i]['time'] *= bpm\n",
    "                        if anno['namespace'] == 'tempo':  # Additional processing for 'tempo' namespace\n",
    "                            anno['data'][i]['value'] *= bpm\n",
    "\n",
    "        # Move the file pointer to the beginning of the file\n",
    "        f.seek(0)\n",
    "        # Write the modified JSON back to the file\n",
    "        json.dump(jam, f, indent=4)\n",
    "        # Truncate the remaining content (in case the new content is shorter than the old content)\n",
    "        f.truncate()\n",
    "\n",
    "# Usage example:\n",
    "folder_path = 'jams/'\n",
    "randomize_files_in_folder(folder_path)\n"
   ]
  }
 ],
 "metadata": {
  "kernelspec": {
   "display_name": "base",
   "language": "python",
   "name": "python3"
  },
  "language_info": {
   "codemirror_mode": {
    "name": "ipython",
    "version": 3
   },
   "file_extension": ".py",
   "mimetype": "text/x-python",
   "name": "python",
   "nbconvert_exporter": "python",
   "pygments_lexer": "ipython3",
   "version": "3.11.7"
  }
 },
 "nbformat": 4,
 "nbformat_minor": 2
}
